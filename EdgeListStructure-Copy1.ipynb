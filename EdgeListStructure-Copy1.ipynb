{
 "cells": [
  {
   "cell_type": "markdown",
   "id": "e67c11f4-f13a-4e5b-83c5-548c38f03e81",
   "metadata": {},
   "source": [
    "# Edge List Structure - Estructura de Lista de Aristas\n",
    "\n",
    "Realice lo siguiente:\n",
    "  * Programe la representación de grafos mediante un la **Estructura de Lista de Aristas**.\n",
    "  * Mediante networkx muestre el resultado gráfico del gráfo."
   ]
  },
  {
   "cell_type": "code",
   "execution_count": 69,
   "id": "d0306278",
   "metadata": {
    "scrolled": true
   },
   "outputs": [],
   "source": [
    "import networkx as nx"
   ]
  },
  {
   "cell_type": "code",
   "execution_count": 77,
   "id": "6b696040",
   "metadata": {},
   "outputs": [],
   "source": [
    "def add_node(v):\n",
    "    nodos.append(v)\n",
    "def add_edge(edge: tuple):\n",
    "    if edge not in edges:\n",
    "        edges.append(edge)\n",
    "    if edge[0] not in nodos:\n",
    "        nodos.append(edge[0])\n",
    "    if edge[1] not in nodos:\n",
    "        nodos.append(edge[1])"
   ]
  },
  {
   "cell_type": "code",
   "execution_count": 78,
   "id": "486d63d4",
   "metadata": {},
   "outputs": [],
   "source": [
    "nodos = []\n",
    "edges = []\n",
    "\n",
    "\n",
    "add_node('1')\n",
    "add_node('2')\n",
    "add_node('3')\n",
    "add_node('4')\n",
    "add_edge(('1', '2'))\n",
    "add_edge(('2', '3'))\n",
    "add_edge(('4', '3'))\n",
    "add_edge(('4', '1'))"
   ]
  },
  {
   "cell_type": "code",
   "execution_count": 79,
   "id": "5c18ee8e",
   "metadata": {},
   "outputs": [],
   "source": [
    "G = nx.from_edgelist(edges)"
   ]
  },
  {
   "cell_type": "code",
   "execution_count": 80,
   "id": "af021fc2",
   "metadata": {},
   "outputs": [
    {
     "data": {
      "image/png": "[encoded data removed]",
      "text/plain": [
       "<Figure size 432x288 with 1 Axes>"
      ]
     },
     "metadata": {},
     "output_type": "display_data"
    }
   ],
   "source": [
    "nx.draw_circular(G, with_labels=True, node_size=2000,font_color ='Green',font_weight = 'bold', font_size = 15, node_color='Black')"
   ]
  }
 ],
 "metadata": {
  "kernelspec": {
   "display_name": "Python 3 (ipykernel)",
   "language": "python",
   "name": "python3"
  },
  "language_info": {
   "codemirror_mode": {
    "name": "ipython",
    "version": 3
   },
   "file_extension": ".py",
   "mimetype": "text/x-python",
   "name": "python",
   "nbconvert_exporter": "python",
   "pygments_lexer": "ipython3",
   "version": "3.9.7"
  }
 },
 "nbformat": 4,
 "nbformat_minor": 5
}
